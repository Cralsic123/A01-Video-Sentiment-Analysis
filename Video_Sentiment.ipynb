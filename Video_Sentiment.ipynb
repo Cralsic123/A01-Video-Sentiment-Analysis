{
  "nbformat": 4,
  "nbformat_minor": 0,
  "metadata": {
    "colab": {
      "provenance": [],
      "gpuType": "T4",
      "authorship_tag": "ABX9TyPFIEmE8quuvOehaeqPYrss",
      "include_colab_link": true
    },
    "kernelspec": {
      "name": "python3",
      "display_name": "Python 3"
    },
    "language_info": {
      "name": "python"
    },
    "accelerator": "GPU"
  },
  "cells": [
    {
      "cell_type": "markdown",
      "metadata": {
        "id": "view-in-github",
        "colab_type": "text"
      },
      "source": [
        "<a href=\"https://colab.research.google.com/github/Cralsic123/A01-Video-Sentiment-Analysis/blob/main/Video_Sentiment.ipynb\" target=\"_parent\"><img src=\"https://colab.research.google.com/assets/colab-badge.svg\" alt=\"Open In Colab\"/></a>"
      ]
    },
    {
      "cell_type": "code",
      "execution_count": 1,
      "metadata": {
        "id": "I3v-OINtrtxX"
      },
      "outputs": [],
      "source": [
        "! mkdir ~/.kaggle\n",
        "! cp kaggle.json ~/.kaggle/\n",
        "! chmod 600 ~/.kaggle/kaggle.json"
      ]
    },
    {
      "cell_type": "code",
      "source": [
        "!kaggle datasets download -d ashishpatel26/facial-expression-recognitionferchallenge\n"
      ],
      "metadata": {
        "colab": {
          "base_uri": "https://localhost:8080/"
        },
        "id": "5MN0RKkdsJzI",
        "outputId": "e23f8218-d4ad-433a-cbea-a395ff58b365"
      },
      "execution_count": 2,
      "outputs": [
        {
          "output_type": "stream",
          "name": "stdout",
          "text": [
            "Warning: Looks like you're using an outdated API Version, please consider updating (server 1.6.14 / client 1.6.12)\n",
            "Dataset URL: https://www.kaggle.com/datasets/ashishpatel26/facial-expression-recognitionferchallenge\n",
            "License(s): copyright-authors\n",
            "Downloading facial-expression-recognitionferchallenge.zip to /content\n",
            " 84% 81.0M/96.6M [00:00<00:00, 154MB/s]\n",
            "100% 96.6M/96.6M [00:00<00:00, 154MB/s]\n"
          ]
        }
      ]
    },
    {
      "cell_type": "markdown",
      "source": [
        "I am going to make a model that will try to derive the expression of sentiment from the video live motion or picture of the user\n"
      ],
      "metadata": {
        "id": "h63V5tjvsajM"
      }
    },
    {
      "cell_type": "code",
      "source": [
        "!kaggle datasets download -d ashishpatel26/facial-expression-recognitionferchallenge\n"
      ],
      "metadata": {
        "colab": {
          "base_uri": "https://localhost:8080/"
        },
        "id": "cIoAAfLVsQS1",
        "outputId": "8b6738de-792b-4586-eb30-183cc02ba5a6"
      },
      "execution_count": 3,
      "outputs": [
        {
          "output_type": "stream",
          "name": "stdout",
          "text": [
            "Warning: Looks like you're using an outdated API Version, please consider updating (server 1.6.14 / client 1.6.12)\n",
            "Dataset URL: https://www.kaggle.com/datasets/ashishpatel26/facial-expression-recognitionferchallenge\n",
            "License(s): copyright-authors\n",
            "facial-expression-recognitionferchallenge.zip: Skipping, found more recently modified local copy (use --force to force download)\n"
          ]
        }
      ]
    },
    {
      "cell_type": "code",
      "source": [
        "!mkdir data\n",
        "!unzip facial-expression-recognitionferchallenge.zip -d data"
      ],
      "metadata": {
        "colab": {
          "base_uri": "https://localhost:8080/"
        },
        "id": "zFuO5ys2so-H",
        "outputId": "06d78f7d-f6f2-473c-da4b-c95639a33ea9"
      },
      "execution_count": 5,
      "outputs": [
        {
          "output_type": "stream",
          "name": "stdout",
          "text": [
            "Archive:  facial-expression-recognitionferchallenge.zip\n",
            "  inflating: data/Submission.csv     \n",
            "  inflating: data/fer2013/fer2013/README  \n",
            "  inflating: data/fer2013/fer2013/fer2013.bib  \n",
            "  inflating: data/fer2013/fer2013/fer2013.csv  \n"
          ]
        }
      ]
    },
    {
      "cell_type": "code",
      "source": [
        "import numpy as np\n",
        "import pandas as pd\n",
        "import math\n",
        "import numpy as np\n",
        "import pandas as pd\n",
        "import seaborn as sns\n",
        "from matplotlib import pyplot"
      ],
      "metadata": {
        "id": "a0YsjAQ8sXVn"
      },
      "execution_count": 4,
      "outputs": []
    },
    {
      "cell_type": "code",
      "source": [],
      "metadata": {
        "id": "DXPJA1J4skv1"
      },
      "execution_count": null,
      "outputs": []
    }
  ]
}